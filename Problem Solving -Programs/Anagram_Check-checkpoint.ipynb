{
 "cells": [
  {
   "cell_type": "code",
   "execution_count": 5,
   "metadata": {},
   "outputs": [],
   "source": [
    "def anagram_test(name1,name2):\n",
    "    \n",
    "    data1 = list(name1)\n",
    "    data2 = list(name2)\n",
    "    \n",
    "    for x in data1:\n",
    "        if x == ' ':\n",
    "            data1.remove(x)\n",
    "        else:\n",
    "            pass\n",
    "        \n",
    "    for x in data2:\n",
    "        if x == ' ':\n",
    "            data2.remove(x)\n",
    "        else:\n",
    "            pass       \n",
    "        \n",
    "    \n",
    "    for x in data1:\n",
    "        if x in data2:\n",
    "            data2.remove(x)\n",
    "            \n",
    "    if len(data2) == 0:\n",
    "        print('Anagram')\n",
    "    else:\n",
    "        print('Not Anagram')"
   ]
  },
  {
   "cell_type": "code",
   "execution_count": 6,
   "metadata": {},
   "outputs": [
    {
     "name": "stdout",
     "output_type": "stream",
     "text": [
      "Not Anagram\n"
     ]
    }
   ],
   "source": [
    "anagram_test('aa','old west action')"
   ]
  },
  {
   "cell_type": "code",
   "execution_count": 7,
   "metadata": {},
   "outputs": [
    {
     "name": "stdout",
     "output_type": "stream",
     "text": [
      "Anagram\n"
     ]
    }
   ],
   "source": [
    "anagram_test('go go go','gggooo')"
   ]
  },
  {
   "cell_type": "code",
   "execution_count": null,
   "metadata": {},
   "outputs": [],
   "source": []
  }
 ],
 "metadata": {
  "kernelspec": {
   "display_name": "Python 3",
   "language": "python",
   "name": "python3"
  },
  "language_info": {
   "codemirror_mode": {
    "name": "ipython",
    "version": 3
   },
   "file_extension": ".py",
   "mimetype": "text/x-python",
   "name": "python",
   "nbconvert_exporter": "python",
   "pygments_lexer": "ipython3",
   "version": "3.7.7"
  }
 },
 "nbformat": 4,
 "nbformat_minor": 4
}
