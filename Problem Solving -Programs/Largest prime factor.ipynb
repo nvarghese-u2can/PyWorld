{
 "cells": [
  {
   "cell_type": "markdown",
   "metadata": {},
   "source": [
    "# largest prime factor "
   ]
  },
  {
   "cell_type": "markdown",
   "metadata": {},
   "source": [
    "## The prime factors of 13195 are 5, 7, 13 and 29.\n",
    "\n",
    "What is the largest prime factor of the number 600851475143 ?"
   ]
  },
  {
   "cell_type": "code",
   "execution_count": 1,
   "metadata": {},
   "outputs": [],
   "source": [
    "def prime_check(num):\n",
    "    status = True\n",
    "    for x in range(2,num):\n",
    "        if num%x == 0:\n",
    "            status = False\n",
    "            break\n",
    "        else:\n",
    "            pass\n",
    "        \n",
    "    return status\n",
    "                \n",
    "\n",
    "\n",
    "def large_prime_factor(num):\n",
    "    factors=[]\n",
    "    \n",
    "    for x in range(2,num):\n",
    "        if (num%x == 0 and prime_check(x)):\n",
    "            factors.append(x)\n",
    "        else:\n",
    "            pass\n",
    "    factors.sort()\n",
    "    print(f'Prime factors of {num} are {factors}')\n",
    "    print(f'largest prime factor of {num} is {factors[-1]}')"
   ]
  },
  {
   "cell_type": "code",
   "execution_count": 2,
   "metadata": {},
   "outputs": [
    {
     "name": "stdout",
     "output_type": "stream",
     "text": [
      "Prime factors of 13195 are [5, 7, 13, 29]\n",
      "largest prime factor of 13195 is 29\n"
     ]
    }
   ],
   "source": [
    "large_prime_factor(13195)"
   ]
  }
 ],
 "metadata": {
  "kernelspec": {
   "display_name": "Python 3",
   "language": "python",
   "name": "python3"
  },
  "language_info": {
   "codemirror_mode": {
    "name": "ipython",
    "version": 3
   },
   "file_extension": ".py",
   "mimetype": "text/x-python",
   "name": "python",
   "nbconvert_exporter": "python",
   "pygments_lexer": "ipython3",
   "version": "3.7.7"
  }
 },
 "nbformat": 4,
 "nbformat_minor": 4
}
